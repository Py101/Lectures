{
 "cells": [
  {
   "cell_type": "markdown",
   "metadata": {},
   "source": [
    "# Pytho Crash Course\n",
    "## Lecture 3 \n",
    "### Task 2 : Deal with functions\n",
    "\n"
   ]
  },
  {
   "cell_type": "markdown",
   "metadata": {},
   "source": [
    "#### Description"
   ]
  },
  {
   "cell_type": "code",
   "execution_count": null,
   "metadata": {
    "collapsed": true
   },
   "outputs": [],
   "source": [
    "# Transform this cell in markdown cell and write the description of the task. (Hint: if you double click\n",
    "# on the previous cells you can star to figure out how to use markdown, otherwise try to take a look here\n",
    "# https://github.com/adam-p/markdown-here/wiki/Markdown-Cheatsheet"
   ]
  },
  {
   "cell_type": "markdown",
   "metadata": {},
   "source": [
    "#### Deliverables"
   ]
  },
  {
   "cell_type": "code",
   "execution_count": null,
   "metadata": {
    "collapsed": true
   },
   "outputs": [],
   "source": [
    "# Insert a markdown cell which contains the deliverables (they are outlined in the slides)"
   ]
  },
  {
   "cell_type": "markdown",
   "metadata": {},
   "source": [
    "### Strategy/WorkFlow\n",
    "\n",
    "Before coding we define the strategy. Remember that that's a solution that we propose (in today's homework and in the project, we will ask you to do it by __yourself__). Not necessarely it is the best or the only!!!\n",
    "\n",
    "1. Create all the directories according to the number of files and the number of files per folder\n",
    "2. Create file\n",
    "3. Glue together the previous steps"
   ]
  },
  {
   "cell_type": "markdown",
   "metadata": {},
   "source": [
    "### Define functions\n",
    "\n",
    "In this section you should write the function described on the slides. Be careful, while you scroll down the Notebook, the amount of work to do for each function increase. Remember that:\n",
    "\n",
    "* You can collaborate (but everyone should code on his own laptop)\n",
    "* All the functions should:\n",
    "    * Have a meaningful name\n",
    "    * Be nicely documented\n",
    "    * Be accurately commented"
   ]
  },
  {
   "cell_type": "markdown",
   "metadata": {},
   "source": [
    "#### 1. `create_directories(num_file, file_per_dir)`\n",
    "\n",
    "To create the function, follow the steps in the slides.\n",
    "\n",
    "For this function we need to use a new library: `os`. [This library](https://docs.python.org/2/library/os.html) is used to create, remove and navigare through folders and files."
   ]
  },
  {
   "cell_type": "code",
   "execution_count": null,
   "metadata": {
    "collapsed": true
   },
   "outputs": [],
   "source": [
    "# Import the library\n",
    "import os"
   ]
  },
  {
   "cell_type": "markdown",
   "metadata": {},
   "source": [
    "In general, after you import the library, to use the function it has, you need to write `os.function_you_want` (e.g. `os.listdir()`, which gives back the list of files in the directory you are)."
   ]
  },
  {
   "cell_type": "code",
   "execution_count": null,
   "metadata": {
    "collapsed": true
   },
   "outputs": [],
   "source": [
    "def create_directories(num_file, file_per_dir):\n",
    "    \"\"\"The function creates the directories.\n",
    "    \n",
    "    Inputs:\n",
    "    @num_file: number of total files\n",
    "    @file_per_dir: number of files per dir\n",
    "    \n",
    "    Returns:\n",
    "    @intervals: list of intervals each directory covers\n",
    "    \"\"\"\n",
    "    \n",
    "    # a. Define the numbers of directory\n",
    "    num_dir = \n",
    "    \n",
    "    # b. Define the list of intervals ([(0,49), (50, 99), ...])\n",
    "    intervals = \n",
    "    \n",
    "    # c. Define the list of directory names ([“Documents 0-49/”, “Documents 50-99/”, ...])\n",
    "    directories = \n",
    "    \n",
    "    # d. Create the directories (here you need to use the library os. \n",
    "    for directory in directories:\n",
    "        # Hint: look for \"create a folder chechink if it exist python 3\" on Google)\n",
    "    \n",
    "    return intervals"
   ]
  },
  {
   "cell_type": "code",
   "execution_count": null,
   "metadata": {
    "collapsed": true
   },
   "outputs": [],
   "source": [
    "# Try your function (don't change values unless you write your code considereing the case \n",
    "# the folders have not the same numbers of files)\n",
    "intervals = create_directories(1000, 50)"
   ]
  },
  {
   "cell_type": "markdown",
   "metadata": {},
   "source": [
    "#### 2. `create_file(direct, idx)`\n",
    "\n",
    "Briefly write what the function should do."
   ]
  },
  {
   "cell_type": "code",
   "execution_count": null,
   "metadata": {
    "collapsed": true
   },
   "outputs": [],
   "source": [
    "def create_file(direct, idx):\n",
    "    \"\"\"The function creates a file and stores it in the right directory.\n",
    "    \n",
    "    Inputs:\n",
    "    @direct: directory path (e.g. 'Documents 0-49/')\n",
    "    @idx: index (number) of the file\n",
    "    \n",
    "    \"\"\"\n",
    "    \n",
    "    # a. Open a new file where you can write in the direct\n",
    "    \n",
    "    # b. Write the content of the file as written on the slides\n",
    "    \n",
    "    "
   ]
  },
  {
   "cell_type": "code",
   "execution_count": null,
   "metadata": {
    "collapsed": true
   },
   "outputs": [],
   "source": [
    "# Check if the function works\n",
    "create_file('Documents 0-49/', 4)"
   ]
  },
  {
   "cell_type": "markdown",
   "metadata": {},
   "source": [
    "#### 3. `solve_task(num_files, intervals)`"
   ]
  },
  {
   "cell_type": "markdown",
   "metadata": {},
   "source": [
    "Point out what the function does."
   ]
  },
  {
   "cell_type": "code",
   "execution_count": null,
   "metadata": {
    "collapsed": true
   },
   "outputs": [],
   "source": [
    "def solve_task(num_file, intervals):\n",
    "    \"\"\"\n",
    "    \"\"\"\n",
    "    \n",
    "    # a. for each index from 0 to 999\n",
    "        # b. for each interval, check if the index is in the interval\n",
    "            # c. if yes\n",
    "                # create the file \n",
    "            # else\n",
    "                # break the loop"
   ]
  },
  {
   "cell_type": "code",
   "execution_count": null,
   "metadata": {
    "collapsed": true
   },
   "outputs": [],
   "source": [
    "# Verify whether the function works\n",
    "solve_task(1000, intervals)"
   ]
  },
  {
   "cell_type": "markdown",
   "metadata": {},
   "source": [
    "### Tip to not forget when you work with Notebooks!! \n",
    "Unless the professors don't specifically say that they want to see the function you use, it's a good use to put them in an external file and recall them as libraries. \n",
    "\n",
    "#### How to do it? (Part 1)\n",
    "\n",
    "1. Go on Notebook's home\n",
    "2. Click on New (top-right)\n",
    "3. Choose Python3\n",
    "4. Copy and paste all the functions (even the library you used (in this case you should write import os))\n",
    "5. Name the file \"library_task_2.py\"\n",
    "\n",
    "#### How to do it? (Part 2)\n",
    "\n",
    "1. Delete all the folders you previously created\n",
    "2. Restart the kernel of this notebook and execute only the cells below\n"
   ]
  },
  {
   "cell_type": "code",
   "execution_count": null,
   "metadata": {
    "collapsed": true
   },
   "outputs": [],
   "source": [
    "from library_task_2 import * # Where * means all"
   ]
  },
  {
   "cell_type": "code",
   "execution_count": null,
   "metadata": {
    "collapsed": true
   },
   "outputs": [],
   "source": [
    "# Define the intervals of the directories\n",
    "intervals = create_directories(1000, 50)"
   ]
  },
  {
   "cell_type": "code",
   "execution_count": null,
   "metadata": {
    "collapsed": true
   },
   "outputs": [],
   "source": [
    "# Accomplish the task\n",
    "solve_task(1000, intervals)"
   ]
  }
 ],
 "metadata": {
  "kernelspec": {
   "display_name": "Python [Root]",
   "language": "python",
   "name": "Python [Root]"
  },
  "language_info": {
   "codemirror_mode": {
    "name": "ipython",
    "version": 3
   },
   "file_extension": ".py",
   "mimetype": "text/x-python",
   "name": "python",
   "nbconvert_exporter": "python",
   "pygments_lexer": "ipython3",
   "version": "3.5.2"
  }
 },
 "nbformat": 4,
 "nbformat_minor": 0
}
