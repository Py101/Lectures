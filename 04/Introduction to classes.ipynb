{
 "cells": [
  {
   "cell_type": "markdown",
   "metadata": {},
   "source": [
    "Classes\n",
    "===\n",
    "So far you have learned about Python's core data types: strings, numbers, lists, tuples, and dictionaries. In this section you will learn about the last major data structure, classes. Classes are quite unlike the other data types, in that they are much more flexible. Classes allow you to define the information and behavior that characterize anything you want to model in your program. Classes are a rich topic, so you will learn just enough here to dive into the projects you'd like to get started on.\n"
   ]
  },
  {
   "cell_type": "markdown",
   "metadata": {},
   "source": [
    "What are classes?\n",
    "===\n",
    "Classes are a way of combining information and behavior. For example, let's consider what you'd need to do if you were creating a rocket ship in a game, or in a physics simulation. One of the first things you'd want to track are the x and y coordinates of the rocket. Here is what a simple rocket ship class looks like in code:"
   ]
  },
  {
   "cell_type": "code",
   "execution_count": 8,
   "metadata": {
    "collapsed": false
   },
   "outputs": [
    {
     "name": "stdout",
     "output_type": "stream",
     "text": [
      "Rocket height: 0\n"
     ]
    }
   ],
   "source": [
    "class Rocket():\n",
    "    # Rocket simulates a rocket ship for a game,\n",
    "    #  or a physics simulation.\n",
    "    \n",
    "    def __init__(self):\n",
    "        # Each rocket has an (x,y) position.\n",
    "        self.x = 0\n",
    "        self.y = 0\n",
    "\n",
    "# Create a Rocket object.\n",
    "my_rocket = Rocket()\n",
    "print('Rocket height: '+str(my_rocket.y))"
   ]
  },
  {
   "cell_type": "markdown",
   "metadata": {},
   "source": [
    "One of the first things you do with a class is to define the **\\__init\\__()** method. The \\_\\_init\\_\\_() method sets the values for any parameters that need to be defined when an object is first created. "
   ]
  },
  {
   "cell_type": "markdown",
   "metadata": {},
   "source": [
    "To actually use a class, you create a variable such as *my\\_rocket*. Then you set that equal to the name of the class, with an empty set of parentheses. Python creates an **object** from the class. An object is a single instance of the Rocket class; it has a copy of each of the class's variables, and it can do any action that is defined for the class.\n",
    "\n",
    "We can define methods on classes. Basically function that can modify also object values.\n",
    "\n",
    "Once you have a class, you can define an object and use its methods. Here is how you might define a rocket and have it start to move up:"
   ]
  },
  {
   "cell_type": "code",
   "execution_count": 7,
   "metadata": {
    "collapsed": false
   },
   "outputs": [
    {
     "name": "stdout",
     "output_type": "stream",
     "text": [
      "Rocket altitude: 0\n",
      "Rocket altitude: 1\n",
      "Rocket altitude: 2\n"
     ]
    }
   ],
   "source": [
    "###highlight=[15,16,17,18,19,20,21,22,23]\n",
    "class Rocket():\n",
    "    # Rocket simulates a rocket ship for a game,\n",
    "    #  or a physics simulation.\n",
    "    \n",
    "    def __init__(self):\n",
    "        # Each rocket has an (x,y) position.\n",
    "        self.x = 0\n",
    "        self.y = 0\n",
    "        \n",
    "    def move_up(self):\n",
    "        # Increment the y-position of the rocket.\n",
    "        self.y += 1\n",
    "\n",
    "# Create a Rocket object, and have it start to move up.\n",
    "my_rocket = Rocket()\n",
    "print(\"Rocket altitude:\", my_rocket.y)\n",
    "\n",
    "my_rocket.move_up()\n",
    "print(\"Rocket altitude:\", my_rocket.y)\n",
    "\n",
    "my_rocket.move_up()\n",
    "print(\"Rocket altitude:\", my_rocket.y)"
   ]
  },
  {
   "cell_type": "markdown",
   "metadata": {},
   "source": [
    "You can prove that each rocket has its own x and y values by moving just one of the rockets:"
   ]
  },
  {
   "cell_type": "code",
   "execution_count": 15,
   "metadata": {
    "collapsed": false
   },
   "outputs": [
    {
     "name": "stdout",
     "output_type": "stream",
     "text": [
      "Rocket altitude: 1\n",
      "Rocket altitude: 0\n",
      "Rocket altitude: 0\n",
      "Rocket altitude: 0\n",
      "Rocket altitude: 0\n"
     ]
    }
   ],
   "source": [
    "###highlight=[18,19,20,21,22,23]\n",
    "class Rocket():\n",
    "    # Rocket simulates a rocket ship for a game,\n",
    "    #  or a physics simulation.\n",
    "    \n",
    "    def __init__(self):\n",
    "        # Each rocket has an (x,y) position.\n",
    "        self.x = 0\n",
    "        self.y = 0\n",
    "        \n",
    "    def move_up(self):\n",
    "        # Increment the y-position of the rocket.\n",
    "        self.y += 1\n",
    "        \n",
    "# Create a fleet of 5 rockets, and store them in a list.\n",
    "my_rockets = [Rocket() for x in range(0,5)]\n",
    "\n",
    "# Move the first rocket up.\n",
    "my_rockets[0].move_up()\n",
    "\n",
    "# Show that only the first rocket has moved.\n",
    "for rocket in my_rockets:\n",
    "    print(\"Rocket altitude:\", rocket.y)"
   ]
  },
  {
   "cell_type": "markdown",
   "metadata": {},
   "source": [
    "The syntax for classes may not be very clear at this point, but consider for a moment how you might create a rocket without using classes. You might store the x and y values in a dictionary, but you would have to write a lot of ugly, hard-to-maintain code to manage even a small set of rockets. As more features become incorporated into the Rocket class, you will see how much more efficiently real-world objects can be modeled with classes than they could be using just lists and dictionaries."
   ]
  },
  {
   "cell_type": "markdown",
   "metadata": {},
   "source": [
    "Object-Oriented terminology\n",
    "===\n",
    "Classes are part of a programming paradigm called **object-oriented programming**. Object-oriented programming, or OOP for short, focuses on building reusable blocks of code called classes. When you want to use a class in one of your programs, you make an **object** from that class, which is where the phrase \"object-oriented\" comes from. Python itself is not tied to object-oriented programming, but you will be using objects in most or all of your Python projects. In order to understand classes, you have to understand some of the language that is used in OOP."
   ]
  },
  {
   "cell_type": "markdown",
   "metadata": {},
   "source": [
    "General terminology\n",
    "---\n",
    "A **class** is a body of code that defines the **attributes** and **behaviors** required to accurately model something you need for your program. You can model something from the real world, such as a rocket ship or a guitar string, or you can model something from a virtual world such as a rocket in a game, or a set of physical laws for a game engine.\n",
    "\n",
    "An **attribute** is a piece of information. In code, an attribute is just a variable that is part of a class.\n",
    "\n",
    "A **behavior** is an action that is defined within a class. These are made up of **methods**, which are just functions that are defined for the class.\n",
    "\n",
    "An **object** is a particular instance of a class. An object has a certain set of values for all of the attributes (variables) in the class. You can have as many objects as you want for any one class.\n",
    "\n",
    "There is much more to know, but these words will help you get started. They will make more sense as you see more examples, and start to use classes on your own."
   ]
  },
  {
   "cell_type": "markdown",
   "metadata": {},
   "source": [
    "# Excercise "
   ]
  },
  {
   "cell_type": "markdown",
   "metadata": {},
   "source": [
    "Redifine the Rocket class such that: \n",
    "- can be initialized every where\n",
    "- can move to any distance\n",
    "- a method that can compute the distance from an other rocket"
   ]
  },
  {
   "cell_type": "code",
   "execution_count": null,
   "metadata": {
    "collapsed": false
   },
   "outputs": [],
   "source": [
    "###highlight=[19,20,21,22,23,24,25,26,27,28,29,30,31]\n",
    "from math import sqrt\n",
    "\n",
    "class Rocket():\n",
    "    # Rocket simulates a rocket ship for a game,\n",
    "    #  or a physics simulation.\n",
    "    \n",
    "    def __init__():\n",
    "        # Each rocket has an (x,y) position.\n",
    "\n",
    "        \n",
    "    def move_rocket():\n",
    "        # Move the rocket according to the paremeters given.\n",
    "        #  Default behavior is to move the rocket up one unit.\n",
    "\n",
    "        \n",
    "    def get_distance():\n",
    "        # Calculates the distance from this rocket to another rocket,\n",
    "        #  and returns that value.\n",
    "\n",
    "    \n",
    "# Make two rockets, at different places.\n",
    "rocket_0 = \n",
    "rocket_1 = \n",
    "\n",
    "# Show the distance between them.\n",
    "distance = rocket_0.get_distance(rocket_1)\n",
    "print(\"The rockets are %f units apart.\" % distance)"
   ]
  },
  {
   "cell_type": "markdown",
   "metadata": {},
   "source": [
    "Modules and classes\n",
    "===\n",
    "Now that you are starting to work with classes, your files are going to grow longer. This is good, because it means your programs are probably doing more interesting things. But it is bad, because longer files can be more difficult to work with. Python allows you to save your classes in another file and then import them into the program you are working on. This has the added advantage of isolating your classes into files that can be used in any number of different programs. As you use your classes repeatedly, the classes become more reliable and complete overall."
   ]
  },
  {
   "cell_type": "markdown",
   "metadata": {},
   "source": [
    "Storing a single class in a module\n",
    "---\n",
    "\n",
    "When you save a class into a separate file, that file is called a **module**. You can have any number of classes in a single module. There are a number of ways you can then import the class you are interested in.\n",
    "\n",
    "Start out by saving just the Rocket class into a file called *rocket.py*. Notice the naming convention being used here: the module is saved with a lowercase name, and the class starts with an uppercase letter. This convention is pretty important for a number of reasons, and it is a really good idea to follow the convention."
   ]
  },
  {
   "cell_type": "code",
   "execution_count": 10,
   "metadata": {
    "collapsed": false
   },
   "outputs": [],
   "source": [
    "###highlight=[27,28,29,30,31,32,33]\n",
    "# Save as rocket.py\n",
    "from math import sqrt\n",
    "\n",
    "class Rocket():\n",
    "    # Rocket simulates a rocket ship for a game,\n",
    "    #  or a physics simulation.\n",
    "    \n",
    "    def __init__(self, x=0, y=0):\n",
    "        # Each rocket has an (x,y) position.\n",
    "        self.x = x\n",
    "        self.y = y\n",
    "        \n",
    "    def move_rocket(self, x_increment=0, y_increment=1):\n",
    "        # Move the rocket according to the paremeters given.\n",
    "        #  Default behavior is to move the rocket up one unit.\n",
    "        self.x += x_increment\n",
    "        self.y += y_increment\n",
    "        \n",
    "    def get_distance(self, other_rocket):\n",
    "        # Calculates the distance from this rocket to another rocket,\n",
    "        #  and returns that value.\n",
    "        distance = sqrt((self.x-other_rocket.x)**2+(self.y-other_rocket.y)**2)\n",
    "        return distance\n",
    "    \n",
    "\n",
    "class Shuttle(Rocket):\n",
    "    # Shuttle simulates a space shuttle, which is really\n",
    "    #  just a reusable rocket.\n",
    "    \n",
    "    def __init__(self, x=0, y=0, flights_completed=0):\n",
    "        super().__init__(x, y)\n",
    "        self.flights_completed = flights_completed"
   ]
  },
  {
   "cell_type": "markdown",
   "metadata": {},
   "source": [
    "Now you can import the Rocket and the Shuttle class, and use them both in a clean uncluttered program file:"
   ]
  },
  {
   "cell_type": "code",
   "execution_count": 11,
   "metadata": {
    "collapsed": false
   },
   "outputs": [
    {
     "name": "stdout",
     "output_type": "stream",
     "text": [
      "The rocket is at (0, 0).\n"
     ]
    },
    {
     "ename": "TypeError",
     "evalue": "super() takes at least 1 argument (0 given)",
     "output_type": "error",
     "traceback": [
      "\u001b[1;31m---------------------------------------------------------------------------\u001b[0m",
      "\u001b[1;31mTypeError\u001b[0m                                 Traceback (most recent call last)",
      "\u001b[1;32m<ipython-input-11-32f9ce8d08cb>\u001b[0m in \u001b[0;36m<module>\u001b[1;34m()\u001b[0m\n\u001b[0;32m      6\u001b[0m \u001b[1;32mprint\u001b[0m\u001b[1;33m(\u001b[0m\u001b[1;34m\"The rocket is at (%d, %d).\"\u001b[0m \u001b[1;33m%\u001b[0m \u001b[1;33m(\u001b[0m\u001b[0mrocket\u001b[0m\u001b[1;33m.\u001b[0m\u001b[0mx\u001b[0m\u001b[1;33m,\u001b[0m \u001b[0mrocket\u001b[0m\u001b[1;33m.\u001b[0m\u001b[0my\u001b[0m\u001b[1;33m)\u001b[0m\u001b[1;33m)\u001b[0m\u001b[1;33m\u001b[0m\u001b[0m\n\u001b[0;32m      7\u001b[0m \u001b[1;33m\u001b[0m\u001b[0m\n\u001b[1;32m----> 8\u001b[1;33m \u001b[0mshuttle\u001b[0m \u001b[1;33m=\u001b[0m \u001b[0mShuttle\u001b[0m\u001b[1;33m(\u001b[0m\u001b[1;33m)\u001b[0m\u001b[1;33m\u001b[0m\u001b[0m\n\u001b[0m\u001b[0;32m      9\u001b[0m \u001b[1;32mprint\u001b[0m\u001b[1;33m(\u001b[0m\u001b[1;34m\"\\nThe shuttle is at (%d, %d).\"\u001b[0m \u001b[1;33m%\u001b[0m \u001b[1;33m(\u001b[0m\u001b[0mshuttle\u001b[0m\u001b[1;33m.\u001b[0m\u001b[0mx\u001b[0m\u001b[1;33m,\u001b[0m \u001b[0mshuttle\u001b[0m\u001b[1;33m.\u001b[0m\u001b[0my\u001b[0m\u001b[1;33m)\u001b[0m\u001b[1;33m)\u001b[0m\u001b[1;33m\u001b[0m\u001b[0m\n\u001b[0;32m     10\u001b[0m \u001b[1;32mprint\u001b[0m\u001b[1;33m(\u001b[0m\u001b[1;34m\"The shuttle has completed %d flights.\"\u001b[0m \u001b[1;33m%\u001b[0m \u001b[0mshuttle\u001b[0m\u001b[1;33m.\u001b[0m\u001b[0mflights_completed\u001b[0m\u001b[1;33m)\u001b[0m\u001b[1;33m\u001b[0m\u001b[0m\n",
      "\u001b[1;32m<ipython-input-10-9db91b8a967a>\u001b[0m in \u001b[0;36m__init__\u001b[1;34m(self, x, y, flights_completed)\u001b[0m\n\u001b[0;32m     30\u001b[0m \u001b[1;33m\u001b[0m\u001b[0m\n\u001b[0;32m     31\u001b[0m     \u001b[1;32mdef\u001b[0m \u001b[0m__init__\u001b[0m\u001b[1;33m(\u001b[0m\u001b[0mself\u001b[0m\u001b[1;33m,\u001b[0m \u001b[0mx\u001b[0m\u001b[1;33m=\u001b[0m\u001b[1;36m0\u001b[0m\u001b[1;33m,\u001b[0m \u001b[0my\u001b[0m\u001b[1;33m=\u001b[0m\u001b[1;36m0\u001b[0m\u001b[1;33m,\u001b[0m \u001b[0mflights_completed\u001b[0m\u001b[1;33m=\u001b[0m\u001b[1;36m0\u001b[0m\u001b[1;33m)\u001b[0m\u001b[1;33m:\u001b[0m\u001b[1;33m\u001b[0m\u001b[0m\n\u001b[1;32m---> 32\u001b[1;33m         \u001b[0msuper\u001b[0m\u001b[1;33m(\u001b[0m\u001b[1;33m)\u001b[0m\u001b[1;33m.\u001b[0m\u001b[0m__init__\u001b[0m\u001b[1;33m(\u001b[0m\u001b[0mx\u001b[0m\u001b[1;33m,\u001b[0m \u001b[0my\u001b[0m\u001b[1;33m)\u001b[0m\u001b[1;33m\u001b[0m\u001b[0m\n\u001b[0m\u001b[0;32m     33\u001b[0m         \u001b[0mself\u001b[0m\u001b[1;33m.\u001b[0m\u001b[0mflights_completed\u001b[0m \u001b[1;33m=\u001b[0m \u001b[0mflights_completed\u001b[0m\u001b[1;33m\u001b[0m\u001b[0m\n",
      "\u001b[1;31mTypeError\u001b[0m: super() takes at least 1 argument (0 given)"
     ]
    }
   ],
   "source": [
    "###highlight=[3,8,9,10]\n",
    "# Save as rocket_game.py\n",
    "from rocket import Rocket, Shuttle\n",
    "\n",
    "rocket = Rocket()\n",
    "print(\"The rocket is at (%d, %d).\" % (rocket.x, rocket.y))\n",
    "\n",
    "shuttle = Shuttle()\n",
    "print(\"\\nThe shuttle is at (%d, %d).\" % (shuttle.x, shuttle.y))\n",
    "print(\"The shuttle has completed %d flights.\" % shuttle.flights_completed)"
   ]
  },
  {
   "cell_type": "markdown",
   "metadata": {},
   "source": [
    "The first line tells Python to import both the *Rocket* and the *Shuttle* classes from the *rocket* module. You don't have to import every class in a module; you can pick and choose the classes you care to use, and Python will only spend time processing those particular classes."
   ]
  },
  {
   "cell_type": "markdown",
   "metadata": {},
   "source": [
    "A number of ways to import modules and classes\n",
    "---\n",
    "There are several ways to import modules and classes, and each has its own merits."
   ]
  },
  {
   "cell_type": "code",
   "execution_count": null,
   "metadata": {
    "collapsed": false
   },
   "outputs": [],
   "source": [
    "import module_name\n",
    "from module_name import ClassName\n",
    "from module_name import *\n"
   ]
  },
  {
   "cell_type": "markdown",
   "metadata": {},
   "source": [
    "is straightforward, and is used quite commonly. It allows you to use the class names directly in your program, so you have very clean and readable code. This can be a problem, however, if the names of the classes you are importing conflict with names that have already been used in the program you are working on. This is unlikely to happen in the short programs you have been seeing here, but if you were working on a larger program it is quite possible that the class you want to import from someone else's work would happen to have a name you have already used in your program. In this case, you can use simply import the module itself:"
   ]
  },
  {
   "cell_type": "code",
   "execution_count": 3,
   "metadata": {
    "collapsed": false
   },
   "outputs": [
    {
     "name": "stdout",
     "output_type": "stream",
     "text": [
      "The rocket is at (0, 0).\n",
      "\n",
      "The shuttle is at (0, 0).\n",
      "The shuttle has completed 0 flights.\n"
     ]
    }
   ],
   "source": [
    "# Save as rocket_game.py\n",
    "import rocket\n",
    "\n",
    "rocket_0 = rocket.Rocket()\n",
    "print(\"The rocket is at (%d, %d).\" % (rocket_0.x, rocket_0.y))\n",
    "\n",
    "shuttle_0 = rocket.Shuttle()\n",
    "print(\"\\nThe shuttle is at (%d, %d).\" % (shuttle_0.x, shuttle_0.y))\n",
    "print(\"The shuttle has completed %d flights.\" % shuttle_0.flights_completed)"
   ]
  },
  {
   "cell_type": "markdown",
   "metadata": {},
   "source": [
    "The general syntax for this kind of import is:\n",
    "\n",
    "    "
   ]
  },
  {
   "cell_type": "markdown",
   "metadata": {},
   "source": [
    "### import *module_name* as *local_module_name*\n",
    "\n",
    "There is another syntax for imports that is quite useful:"
   ]
  },
  {
   "cell_type": "code",
   "execution_count": null,
   "metadata": {
    "collapsed": false
   },
   "outputs": [],
   "source": [
    "import module_name as local_module_name"
   ]
  },
  {
   "cell_type": "markdown",
   "metadata": {},
   "source": [
    "When you are importing a module into one of your projects, you are free to choose any name you want for the module in your project. So the last example could be rewritten in a way that the variable name *rocket* would not need to be changed:"
   ]
  },
  {
   "cell_type": "code",
   "execution_count": 5,
   "metadata": {
    "collapsed": false
   },
   "outputs": [
    {
     "name": "stdout",
     "output_type": "stream",
     "text": [
      "The rocket is at (0, 0).\n",
      "\n",
      "The shuttle is at (0, 0).\n",
      "The shuttle has completed 0 flights.\n"
     ]
    }
   ],
   "source": [
    "# Save as rocket_game.py\n",
    "import rocket as r\n",
    "\n",
    "rocket = r.Rocket()\n",
    "print(\"The rocket is at (%d, %d).\" % (rocket.x, rocket.y))\n",
    "\n",
    "shuttle = r.Shuttle()\n",
    "print(\"\\nThe shuttle is at (%d, %d).\" % (shuttle.x, shuttle.y))\n",
    "print(\"The shuttle has completed %d flights.\" % shuttle.flights_completed)"
   ]
  },
  {
   "cell_type": "markdown",
   "metadata": {},
   "source": [
    "Module and class names\n",
    "---\n",
    "Modules should have [short, lowercase names](http://www.python.org/dev/peps/pep-0008/#package-and-module-names). If you want to have a space in the module name, use an underscore.\n",
    "\n",
    "[Class names](http://www.python.org/dev/peps/pep-0008/#class-names) should be written in *CamelCase*, with an initial capital letter and any new word capitalized. There should be no underscores in your class names.\n",
    "\n",
    "This convention helps distinguish modules from classes, for example when you are writing import statements."
   ]
  }
 ],
 "metadata": {
  "anaconda-cloud": {},
  "kernelspec": {
   "display_name": "Python [Root]",
   "language": "python",
   "name": "Python [Root]"
  },
  "language_info": {
   "codemirror_mode": {
    "name": "ipython",
    "version": 2
   },
   "file_extension": ".py",
   "mimetype": "text/x-python",
   "name": "python",
   "nbconvert_exporter": "python",
   "pygments_lexer": "ipython2",
   "version": "2.7.12"
  }
 },
 "nbformat": 4,
 "nbformat_minor": 0
}
