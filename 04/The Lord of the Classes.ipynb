{
 "cells": [
  {
   "cell_type": "markdown",
   "metadata": {},
   "source": [
    "Try to represent two characters with dictionaries, including functions as values"
   ]
  },
  {
   "cell_type": "code",
   "execution_count": 37,
   "metadata": {
    "collapsed": true
   },
   "outputs": [],
   "source": [
    "aragorn={\"Life\":110, #Life points of the character\n",
    "      \"Strength\": 10, # The power of the attack\n",
    "      \"Equip\":{\"sword\":{\"Strength\":10,\"Status\":True}}, #equip is a dictionary of weapons, each weapon is a dict of characteristics\n",
    "        #Attack function is the total strenght with which aragorn will attack\n",
    "      \"TotAttack\":lambda x: x[\"Strength\"]+x[\"Equip\"][\"sword\"][\"Strength\"], #compute the total attack of the character. Strength+Equip\n",
    "      \"Attack\":lambda x,y: x[\"Life\"]-y['TotAttack'](y) } \n",
    "\n",
    "saruman={\"Life\":100,\n",
    "      \"Strength\": 10,\n",
    "      \"Equip\":{\"sword\":{\"Strength\":10,\"Status\":True}}, \n",
    "        #Attack function is the total strenght with which aragorn will attack\n",
    "      \"TotAttack\":lambda x: x[\"Strength\"]+x[\"Equip\"][\"sword\"][\"Strength\"],\n",
    "      \"Attack\":lambda x,y: x[\"Life\"]-y['TotAttack'](y) } "
   ]
  },
  {
   "cell_type": "markdown",
   "metadata": {},
   "source": [
    "Better to define only characteristics in dictionaries and keep function defined outside"
   ]
  },
  {
   "cell_type": "code",
   "execution_count": 94,
   "metadata": {
    "collapsed": true
   },
   "outputs": [],
   "source": [
    "aragorn={\"Name\": \"Aragorn\",\n",
    "         \"Life\":110,\n",
    "      \"Strength\": 10,\n",
    "      \"Equip\":{\"sword\":{\"Strength\":10,\"Status\":True},\n",
    "              \"Bow\":{\"Strength\":7,\"Status\":True}}}\n",
    "\n",
    "saruman={\"Name\": \"Saruman\",\n",
    "         \"Life\":100,\n",
    "      \"Strength\": 10,\n",
    "      \"Equip\":{\"sword\":{\"Strength\":10,\"Status\":False},\n",
    "              \"Stick\":{\"Strength\":10,\"Status\":True}}}"
   ]
  },
  {
   "cell_type": "code",
   "execution_count": 104,
   "metadata": {
    "collapsed": false
   },
   "outputs": [],
   "source": [
    "def totAttack(character):\n",
    "    '''\n",
    "        The total attack of a character is given by its strength and the sum of the strength of its weapons.\n",
    "        So the idea is to iterate with list comprehension over the weapons and get their strength if status s true\n",
    "        and then add to this list the strength of the caracter. Finally sum this list.\n",
    "    '''\n",
    "    return sum([character['Strength']] + [x['Strength']*x['Status'] for x in character['Equip'].values()])\n",
    "    \n",
    "    \n",
    "def attack(defense,attacker):\n",
    "    '''\n",
    "        This function subtract attacker TotalAttack to defender  \n",
    "    '''\n",
    "    # If the character is going to die, set its life to 0 and print 'Is dead'\n",
    "    if defense['Life'] <=totAttack(attacker):\n",
    "        print(defense[\"Name\"] + ' is dead.')\n",
    "        defense['Life']=0\n",
    "        return \n",
    "    else: \n",
    "        defense['Life'] -= totAttack(attacker)"
   ]
  },
  {
   "cell_type": "code",
   "execution_count": 99,
   "metadata": {
    "collapsed": false
   },
   "outputs": [
    {
     "data": {
      "text/plain": [
       "73"
      ]
     },
     "execution_count": 99,
     "metadata": {},
     "output_type": "execute_result"
    }
   ],
   "source": [
    "# if a just point to the same element a=saruman . Then if I modify saruman also a will change. Need \n",
    "#to put .copy() to create an other element in the memory!\n",
    "a=saruman.copy()\n",
    "a['Life']"
   ]
  },
  {
   "cell_type": "code",
   "execution_count": 100,
   "metadata": {
    "collapsed": false
   },
   "outputs": [
    {
     "name": "stdout",
     "output_type": "stream",
     "text": [
      "73\n",
      "46\n"
     ]
    }
   ],
   "source": [
    "print(saruman['Life'])\n",
    "attack(defense = saruman,attacker = aragorn)\n",
    "print(saruman['Life'])\n"
   ]
  },
  {
   "cell_type": "code",
   "execution_count": 103,
   "metadata": {
    "collapsed": false
   },
   "outputs": [
    {
     "name": "stdout",
     "output_type": "stream",
     "text": [
      "73\n"
     ]
    },
    {
     "data": {
      "text/plain": [
       "46"
      ]
     },
     "execution_count": 103,
     "metadata": {},
     "output_type": "execute_result"
    }
   ],
   "source": [
    "print a['Life']\n",
    "saruman['Life']"
   ]
  }
 ],
 "metadata": {
  "kernelspec": {
   "display_name": "Python [Root]",
   "language": "python",
   "name": "Python [Root]"
  },
  "language_info": {
   "codemirror_mode": {
    "name": "ipython",
    "version": 2
   },
   "file_extension": ".py",
   "mimetype": "text/x-python",
   "name": "python",
   "nbconvert_exporter": "python",
   "pygments_lexer": "ipython2",
   "version": "2.7.12"
  }
 },
 "nbformat": 4,
 "nbformat_minor": 2
}
